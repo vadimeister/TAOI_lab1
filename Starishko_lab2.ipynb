{
  "nbformat": 4,
  "nbformat_minor": 0,
  "metadata": {
    "colab": {
      "name": "Starishko_lab2.ipynb",
      "provenance": []
    },
    "kernelspec": {
      "name": "python3",
      "display_name": "Python 3"
    },
    "language_info": {
      "name": "python"
    }
  },
  "cells": [
    {
      "cell_type": "markdown",
      "source": [
        ""
      ],
      "metadata": {
        "id": "eEisOpYxMFDH"
      }
    },
    {
      "cell_type": "markdown",
      "source": [
        "Лабораторная работа 2 Поиск ассоциативных правил\n",
        "\n",
        "Выполнил: студент группы КЭ-403 В.С. Старишко"
      ],
      "metadata": {
        "id": "47sygvcFMHIw"
      }
    },
    {
      "cell_type": "markdown",
      "source": [
        "ЗАДАНИЕ\n",
        "\n",
        "Доработайте программу из задания Поиск частых наборов, чтобы она также выполняла поиск ассоциативных правил.\n",
        "\n",
        "\n",
        "\n",
        "Наборы данных для лабораторной\n",
        "\n",
        "retail - http://fimi.uantwerpen.be/data/retail.dat\n",
        "\n",
        "kosarak - http://fimi.uantwerpen.be/data/kosarak.dat\n",
        "\n",
        "Реализация алгоритма aprioiri - https://github.com/cmapman/Apriori"
      ],
      "metadata": {
        "id": "JcRyRUdyUB2Z"
      }
    },
    {
      "cell_type": "code",
      "source": [
        "!wget http://fimi.uantwerpen.be/data/retail.dat"
      ],
      "metadata": {
        "colab": {
          "base_uri": "https://localhost:8080/"
        },
        "id": "_nteLxgWUP2N",
        "outputId": "65862ea9-d37a-4591-8bd0-5c4c94b61325"
      },
      "execution_count": 1,
      "outputs": [
        {
          "output_type": "stream",
          "name": "stdout",
          "text": [
            "--2022-03-06 06:32:20--  http://fimi.uantwerpen.be/data/retail.dat\n",
            "Resolving fimi.uantwerpen.be (fimi.uantwerpen.be)... 143.129.69.1\n",
            "Connecting to fimi.uantwerpen.be (fimi.uantwerpen.be)|143.129.69.1|:80... connected.\n",
            "HTTP request sent, awaiting response... 200 OK\n",
            "Length: 4167490 (4.0M)\n",
            "Saving to: ‘retail.dat’\n",
            "\n",
            "retail.dat          100%[===================>]   3.97M  5.69MB/s    in 0.7s    \n",
            "\n",
            "2022-03-06 06:32:21 (5.69 MB/s) - ‘retail.dat’ saved [4167490/4167490]\n",
            "\n"
          ]
        }
      ]
    },
    {
      "cell_type": "code",
      "source": [
        "!wget http://fimi.uantwerpen.be/data/kosarak.dat"
      ],
      "metadata": {
        "colab": {
          "base_uri": "https://localhost:8080/"
        },
        "id": "o5Yhh3jPV0hD",
        "outputId": "bccaa7d8-fa7b-40d1-a548-538bcb664b24"
      },
      "execution_count": 2,
      "outputs": [
        {
          "output_type": "stream",
          "name": "stdout",
          "text": [
            "--2022-03-06 06:32:22--  http://fimi.uantwerpen.be/data/kosarak.dat\n",
            "Resolving fimi.uantwerpen.be (fimi.uantwerpen.be)... 143.129.69.1\n",
            "Connecting to fimi.uantwerpen.be (fimi.uantwerpen.be)|143.129.69.1|:80... connected.\n",
            "HTTP request sent, awaiting response... 200 OK\n",
            "Length: 32029467 (31M)\n",
            "Saving to: ‘kosarak.dat’\n",
            "\n",
            "kosarak.dat         100%[===================>]  30.54M  20.0MB/s    in 1.5s    \n",
            "\n",
            "2022-03-06 06:32:23 (20.0 MB/s) - ‘kosarak.dat’ saved [32029467/32029467]\n",
            "\n"
          ]
        }
      ]
    },
    {
      "cell_type": "code",
      "source": [
        "!pip install apyori"
      ],
      "metadata": {
        "colab": {
          "base_uri": "https://localhost:8080/"
        },
        "id": "Mjq-P2_fV1JG",
        "outputId": "c842ff67-b24f-4138-8cec-53135cda05a4"
      },
      "execution_count": 3,
      "outputs": [
        {
          "output_type": "stream",
          "name": "stdout",
          "text": [
            "Collecting apyori\n",
            "  Downloading apyori-1.1.2.tar.gz (8.6 kB)\n",
            "Building wheels for collected packages: apyori\n",
            "  Building wheel for apyori (setup.py) ... \u001b[?25l\u001b[?25hdone\n",
            "  Created wheel for apyori: filename=apyori-1.1.2-py3-none-any.whl size=5974 sha256=fb602388e9aee549983328920fb7aaac839fd4332bf4d76e026f8eb11b922e21\n",
            "  Stored in directory: /root/.cache/pip/wheels/cb/f6/e1/57973c631d27efd1a2f375bd6a83b2a616c4021f24aab84080\n",
            "Successfully built apyori\n",
            "Installing collected packages: apyori\n",
            "Successfully installed apyori-1.1.2\n"
          ]
        }
      ]
    },
    {
      "cell_type": "markdown",
      "source": [
        "Импорт библиотек"
      ],
      "metadata": {
        "id": "pULjGTqid1lz"
      }
    },
    {
      "cell_type": "code",
      "source": [
        "import numpy as np\n",
        "from apyori import apriori\n",
        "import pandas as pd\n",
        "import seaborn as sns\n",
        "import timeit\n",
        "import time\n"
      ],
      "metadata": {
        "id": "bPyr_J0QWNA5"
      },
      "execution_count": 4,
      "outputs": []
    },
    {
      "cell_type": "markdown",
      "source": [
        "Считываем построчно данные из наборов"
      ],
      "metadata": {
        "id": "DwPuJRFyd_lu"
      }
    },
    {
      "cell_type": "code",
      "source": [
        "retailTransactions = [i.strip().split() for i in open(\"retail.dat\").readlines()]"
      ],
      "metadata": {
        "id": "0lDMmRA3WfHQ"
      },
      "execution_count": 5,
      "outputs": []
    },
    {
      "cell_type": "code",
      "source": [
        "kosarakTransactions = [i.strip().split() for i in open(\"kosarak.dat\").readlines()]"
      ],
      "metadata": {
        "id": "a7uWkrzGZEl7"
      },
      "execution_count": 6,
      "outputs": []
    },
    {
      "cell_type": "code",
      "source": [
        "print(retailTransactions[0])\n",
        "print(kosarakTransactions[0])"
      ],
      "metadata": {
        "colab": {
          "base_uri": "https://localhost:8080/"
        },
        "id": "CZAGRY4EZMlD",
        "outputId": "af13415c-2510-4003-84b9-5241c99e3fda"
      },
      "execution_count": 7,
      "outputs": [
        {
          "output_type": "stream",
          "name": "stdout",
          "text": [
            "['0', '1', '2', '3', '4', '5', '6', '7', '8', '9', '10', '11', '12', '13', '14', '15', '16', '17', '18', '19', '20', '21', '22', '23', '24', '25', '26', '27', '28', '29']\n",
            "['1', '2', '3']\n"
          ]
        }
      ]
    },
    {
      "cell_type": "markdown",
      "source": [
        "Определим функцию для получения наборов с выводом правил, их поддержкой и уверенностью\n"
      ],
      "metadata": {
        "id": "uUiCRZ6z1-fn"
      }
    },
    {
      "cell_type": "code",
      "source": [
        "def getSets(data:list, minСonfidence:int, sort:int=0, printFlag:int=0) -> list:\n",
        "    num = 0\n",
        "    rules = list(apriori(data, min_support=0.05,min_confidence=minСonfidence, min_lift = 1))\n",
        "    if sort:\n",
        "      rules = sorted(rules, key=lambda a:a[2][0][2],  reverse=True)\n",
        "    for item in rules:\n",
        "      num+=1\n",
        "      if printFlag:\n",
        "        items = [x for x in item[0]]\n",
        "        print(f'Base rule: {items}')\n",
        "        items = [x for x in item[2][0][0]]\n",
        "        print(f'Base item: {items}')\n",
        "        items = [x for x in item[2][0][1]]\n",
        "        print(f'additional item: {items}')\n",
        "        print(f'Support: {item[1]}')\n",
        "        print(f'Confidence : {item[2][0][2]}')\n",
        "        print(f'Lift : {item[2][0][3]}')\n",
        "        print('--------------------------------------------------------------')\n",
        "    return num "
      ],
      "metadata": {
        "id": "4rlN72Px15Lo"
      },
      "execution_count": 44,
      "outputs": []
    },
    {
      "cell_type": "markdown",
      "source": [
        "Протестируем функцию на наших наборах данных"
      ],
      "metadata": {
        "id": "8sXBOOVKgkeR"
      }
    },
    {
      "cell_type": "code",
      "source": [
        "retailTest = getSets(retailTransactions, 0.2, 1, 1)"
      ],
      "metadata": {
        "colab": {
          "base_uri": "https://localhost:8080/"
        },
        "id": "ARAe57KpglaP",
        "outputId": "bac81940-7eae-4437-f482-476b5c02966b"
      },
      "execution_count": 45,
      "outputs": [
        {
          "output_type": "stream",
          "name": "stdout",
          "text": [
            "Base rule: ['39', '38']\n",
            "Base item: ['38']\n",
            "additional item: ['39']\n",
            "Support: 0.1173408044282117\n",
            "Confidence : 0.663311105411644\n",
            "Lift : 1.15399770449534\n",
            "--------------------------------------------------------------\n",
            "Base rule: ['48', '41']\n",
            "Base item: ['41']\n",
            "additional item: ['48']\n",
            "Support: 0.10228896803611533\n",
            "Confidence : 0.6034125125460019\n",
            "Lift : 1.2625620963825945\n",
            "--------------------------------------------------------------\n",
            "Base rule: ['39']\n",
            "Base item: []\n",
            "additional item: ['39']\n",
            "Support: 0.5747941289898142\n",
            "Confidence : 0.5747941289898142\n",
            "Lift : 1.0\n",
            "--------------------------------------------------------------\n",
            "Base rule: ['48', '32']\n",
            "Base item: ['32']\n",
            "additional item: ['48']\n",
            "Support: 0.0911276967400921\n",
            "Confidence : 0.5297026438979363\n",
            "Lift : 1.1083337959257116\n",
            "--------------------------------------------------------------\n",
            "Base rule: ['48', '38']\n",
            "Base item: ['38']\n",
            "additional item: ['48']\n",
            "Support: 0.09010684875569973\n",
            "Confidence : 0.5093613747114644\n",
            "Lift : 1.065772339321517\n",
            "--------------------------------------------------------------\n",
            "Base rule: ['48', '39', '41']\n",
            "Base item: ['41']\n",
            "additional item: ['48', '39']\n",
            "Support: 0.0835507361448243\n",
            "Confidence : 0.4928738708598194\n",
            "Lift : 1.4910694599802141\n",
            "--------------------------------------------------------------\n",
            "Base rule: ['48']\n",
            "Base item: []\n",
            "additional item: ['48']\n",
            "Support: 0.47792699802636057\n",
            "Confidence : 0.47792699802636057\n",
            "Lift : 1.0\n",
            "--------------------------------------------------------------\n",
            "Base rule: ['48', '39', '38']\n",
            "Base item: ['38']\n",
            "additional item: ['48', '39']\n",
            "Support: 0.06921349334180259\n",
            "Confidence : 0.3912541677353167\n",
            "Lift : 1.1836438794825679\n",
            "--------------------------------------------------------------\n",
            "Base rule: ['48', '32', '39']\n",
            "Base item: ['32']\n",
            "additional item: ['48', '39']\n",
            "Support: 0.06127356457430639\n",
            "Confidence : 0.3561679963077734\n",
            "Lift : 1.077499241317889\n",
            "--------------------------------------------------------------\n",
            "Base rule: ['48', '39']\n",
            "Base item: []\n",
            "additional item: ['48', '39']\n",
            "Support: 0.33055057734624893\n",
            "Confidence : 0.33055057734624893\n",
            "Lift : 1.0\n",
            "--------------------------------------------------------------\n",
            "Base rule: ['39', '41']\n",
            "Base item: ['39']\n",
            "additional item: ['41']\n",
            "Support: 0.12946620993171662\n",
            "Confidence : 0.22523926985693143\n",
            "Lift : 1.3287082307880087\n",
            "--------------------------------------------------------------\n"
          ]
        }
      ]
    },
    {
      "cell_type": "code",
      "source": [
        "kosarakTest = getSets(kosarakTransactions, 0.4, 0, 1)"
      ],
      "metadata": {
        "colab": {
          "base_uri": "https://localhost:8080/"
        },
        "id": "byPE9QDBgwri",
        "outputId": "d17d58a8-a4ee-4008-df54-a865a2126a08"
      },
      "execution_count": 46,
      "outputs": [
        {
          "output_type": "stream",
          "name": "stdout",
          "text": [
            "Base rule: ['3']\n",
            "Base item: []\n",
            "additional item: ['3']\n",
            "Support: 0.4545758493417185\n",
            "Confidence : 0.4545758493417185\n",
            "Lift : 1.0\n",
            "--------------------------------------------------------------\n",
            "Base rule: ['6']\n",
            "Base item: []\n",
            "additional item: ['6']\n",
            "Support: 0.6074472576823077\n",
            "Confidence : 0.6074472576823077\n",
            "Lift : 1.0\n",
            "--------------------------------------------------------------\n",
            "Base rule: ['1', '11']\n",
            "Base item: ['1']\n",
            "additional item: ['11']\n",
            "Support: 0.09280991351532623\n",
            "Confidence : 0.4651734996607973\n",
            "Lift : 1.264946355763912\n",
            "--------------------------------------------------------------\n",
            "Base rule: ['1', '6']\n",
            "Base item: ['1']\n",
            "additional item: ['6']\n",
            "Support: 0.1334472051571613\n",
            "Confidence : 0.668852077236966\n",
            "Lift : 1.1010866684771057\n",
            "--------------------------------------------------------------\n",
            "Base rule: ['148', '11']\n",
            "Base item: ['148']\n",
            "additional item: ['11']\n",
            "Support: 0.05632210844018497\n",
            "Confidence : 0.7974457252366923\n",
            "Lift : 2.168494260299056\n",
            "--------------------------------------------------------------\n",
            "Base rule: ['218', '11']\n",
            "Base item: ['218']\n",
            "additional item: ['11']\n",
            "Support: 0.06227866206330896\n",
            "Confidence : 0.6959073568252104\n",
            "Lift : 1.8923809623876833\n",
            "--------------------------------------------------------------\n",
            "Base rule: ['6', '11']\n",
            "Base item: ['11']\n",
            "additional item: ['6']\n",
            "Support: 0.3272851974036416\n",
            "Confidence : 0.889986678203068\n",
            "Lift : 1.4651258474666244\n",
            "--------------------------------------------------------------\n",
            "Base rule: ['11', '7']\n",
            "Base item: ['7']\n",
            "additional item: ['11']\n",
            "Support: 0.05765038858507356\n",
            "Confidence : 0.6567930217036065\n",
            "Lift : 1.7860173460030868\n",
            "--------------------------------------------------------------\n",
            "Base rule: ['218', '148']\n",
            "Base item: ['148']\n",
            "additional item: ['218']\n",
            "Support: 0.059417051682723876\n",
            "Confidence : 0.8412659820943338\n",
            "Lift : 9.400381552691423\n",
            "--------------------------------------------------------------\n",
            "Base rule: ['148', '6']\n",
            "Base item: ['148']\n",
            "additional item: ['6']\n",
            "Support: 0.06540390827493278\n",
            "Confidence : 0.9260318640771146\n",
            "Lift : 1.5244646384780047\n",
            "--------------------------------------------------------------\n",
            "Base rule: ['218', '6']\n",
            "Base item: ['218']\n",
            "additional item: ['6']\n",
            "Support: 0.0784594374556819\n",
            "Confidence : 0.8767127926138287\n",
            "Lift : 1.443273932882492\n",
            "--------------------------------------------------------------\n",
            "Base rule: ['6', '27']\n",
            "Base item: ['27']\n",
            "additional item: ['6']\n",
            "Support: 0.06001806056957461\n",
            "Confidence : 0.8237169711925029\n",
            "Lift : 1.3560304384867325\n",
            "--------------------------------------------------------------\n",
            "Base rule: ['6', '7']\n",
            "Base item: ['7']\n",
            "additional item: ['6']\n",
            "Support: 0.07435338514467647\n",
            "Confidence : 0.8470850882644019\n",
            "Lift : 1.3944998146776124\n",
            "--------------------------------------------------------------\n",
            "Base rule: ['6', '1', '11']\n",
            "Base item: ['1']\n",
            "additional item: ['11', '6']\n",
            "Support: 0.08696144048193842\n",
            "Confidence : 0.43586030923137675\n",
            "Lift : 1.3317446456150879\n",
            "--------------------------------------------------------------\n",
            "Base rule: ['6', '1', '3']\n",
            "Base item: ['1', '3']\n",
            "additional item: ['6']\n",
            "Support: 0.05838574063486741\n",
            "Confidence : 0.6827545476021735\n",
            "Lift : 1.1239733803510743\n",
            "--------------------------------------------------------------\n",
            "Base rule: ['218', '148', '11']\n",
            "Base item: ['148']\n",
            "additional item: ['218', '11']\n",
            "Support: 0.05060393817386227\n",
            "Confidence : 0.7164840822630931\n",
            "Lift : 11.504487388228668\n",
            "--------------------------------------------------------------\n",
            "Base rule: ['6', '148', '11']\n",
            "Base item: ['148']\n",
            "additional item: ['11', '6']\n",
            "Support: 0.05578776608532104\n",
            "Confidence : 0.7898801521695603\n",
            "Lift : 2.413430727804653\n",
            "--------------------------------------------------------------\n",
            "Base rule: ['218', '11', '6']\n",
            "Base item: ['218']\n",
            "additional item: ['6', '11']\n",
            "Support: 0.06124230052060501\n",
            "Confidence : 0.6843269599765232\n",
            "Lift : 2.090919373700061\n",
            "--------------------------------------------------------------\n",
            "Base rule: ['6', '3', '11']\n",
            "Base item: ['3', '11']\n",
            "additional item: ['6']\n",
            "Support: 0.14513304013527245\n",
            "Confidence : 0.8908522748409657\n",
            "Lift : 1.466550821613681\n",
            "--------------------------------------------------------------\n",
            "Base rule: ['6', '11', '7']\n",
            "Base item: ['7']\n",
            "additional item: ['11', '6']\n",
            "Support: 0.05639887596186675\n",
            "Confidence : 0.6425349260052016\n",
            "Lift : 1.9632263576307172\n",
            "--------------------------------------------------------------\n",
            "Base rule: ['218', '148', '6']\n",
            "Base item: ['148']\n",
            "additional item: ['218', '6']\n",
            "Support: 0.057412005228272264\n",
            "Confidence : 0.8128772060295758\n",
            "Lift : 10.36047711263202\n",
            "--------------------------------------------------------------\n",
            "Base rule: ['218', '148', '11', '6']\n",
            "Base item: ['148']\n",
            "additional item: ['218', '11', '6']\n",
            "Support: 0.05036959521293896\n",
            "Confidence : 0.713166099367867\n",
            "Lift : 11.644991995817039\n",
            "--------------------------------------------------------------\n"
          ]
        }
      ]
    },
    {
      "cell_type": "markdown",
      "source": [
        "Выведем количество правил"
      ],
      "metadata": {
        "id": "ybtBqrLPlhyG"
      }
    },
    {
      "cell_type": "code",
      "source": [
        "print(retailTest)\n",
        "print(kosarakTest)"
      ],
      "metadata": {
        "colab": {
          "base_uri": "https://localhost:8080/"
        },
        "id": "b5l6Bd36lkRE",
        "outputId": "f3bc5ea6-7124-4bf8-e299-035c52844418"
      },
      "execution_count": 47,
      "outputs": [
        {
          "output_type": "stream",
          "name": "stdout",
          "text": [
            "11\n",
            "22\n"
          ]
        }
      ]
    },
    {
      "cell_type": "markdown",
      "source": [
        "\n",
        "Проведём эксперименты по зависимости количества наборов правил от значения минимальной уверенности"
      ],
      "metadata": {
        "id": "DJVg9U5KPzV-"
      }
    },
    {
      "cell_type": "code",
      "source": [
        "retailSets= []\n",
        "kosarakSets = []\n",
        "\n",
        "for minСonfidence in range(30, 95, 5):\n",
        "  retailSets.append(getSets(retailTransactions, minСonfidence / 100, printFlag = 0))\n",
        "  kosarakSets.append(getSets(kosarakTransactions, minСonfidence/ 100, printFlag = 0))"
      ],
      "metadata": {
        "id": "iJgUjKmHP9QF"
      },
      "execution_count": 48,
      "outputs": []
    },
    {
      "cell_type": "code",
      "source": [
        "minConfidenceGraph = np.array([i for i in range(30, 95, 5)]) / 100\n",
        "retailSetsData = pd.DataFrame({'min_confidence':minConfidenceGraph ,'number_sets':retailSets})\n",
        "kosarakSetsData = pd.DataFrame({'min_confidence':minConfidenceGraph ,'number_sets':kosarakSets})"
      ],
      "metadata": {
        "id": "kEhT8I-VQ45J"
      },
      "execution_count": 49,
      "outputs": []
    },
    {
      "cell_type": "code",
      "source": [
        "sns.lineplot(data=retailSetsData , x='min_confidence', y='number_sets')"
      ],
      "metadata": {
        "colab": {
          "base_uri": "https://localhost:8080/",
          "height": 298
        },
        "id": "DfZO7k5iSuC5",
        "outputId": "e12c05e2-3815-4c2e-f2ae-482b5343faa2"
      },
      "execution_count": 50,
      "outputs": [
        {
          "output_type": "execute_result",
          "data": {
            "text/plain": [
              "<matplotlib.axes._subplots.AxesSubplot at 0x7f9029a20850>"
            ]
          },
          "metadata": {},
          "execution_count": 50
        },
        {
          "output_type": "display_data",
          "data": {
            "image/png": "[encoded data removed]",
            "text/plain": [
              "<Figure size 432x288 with 1 Axes>"
            ]
          },
          "metadata": {
            "needs_background": "light"
          }
        }
      ]
    },
    {
      "cell_type": "markdown",
      "source": [
        "График показывает зависимость количества наборов от значения минимальной уверенности на наборе данных retail"
      ],
      "metadata": {
        "id": "1L0YPZGNaLcc"
      }
    },
    {
      "cell_type": "code",
      "source": [
        "sns.lineplot(data=kosarakSetsData , x='min_confidence', y='number_sets')"
      ],
      "metadata": {
        "colab": {
          "base_uri": "https://localhost:8080/",
          "height": 298
        },
        "id": "TRWAIJk4Zs3l",
        "outputId": "70c23d6d-614f-4018-9df4-b14b08c9a02f"
      },
      "execution_count": 51,
      "outputs": [
        {
          "output_type": "execute_result",
          "data": {
            "text/plain": [
              "<matplotlib.axes._subplots.AxesSubplot at 0x7f9028edca10>"
            ]
          },
          "metadata": {},
          "execution_count": 51
        },
        {
          "output_type": "display_data",
          "data": {
            "image/png": "[encoded data removed]",
            "text/plain": [
              "<Figure size 432x288 with 1 Axes>"
            ]
          },
          "metadata": {
            "needs_background": "light"
          }
        }
      ]
    },
    {
      "cell_type": "markdown",
      "source": [
        "График показывает зависимость количества наборов от значения минимальной уверенности на наборе данных kosarak\n"
      ],
      "metadata": {
        "id": "ZDyS65RTaNxu"
      }
    },
    {
      "cell_type": "markdown",
      "source": [
        "Исходя из графиков можно сделать вывод, чем меньше значение минимальной уверенности, тем большее количество наборов можно получить"
      ],
      "metadata": {
        "id": "OzeEuyOHZ_7w"
      }
    },
    {
      "cell_type": "markdown",
      "source": [
        "\n",
        "Посчитаем время выполнения функций для разных наборов данных и разных значений минимальной уверенности\n",
        "\n"
      ],
      "metadata": {
        "id": "_tHvtSfNaBTk"
      }
    },
    {
      "cell_type": "code",
      "source": [
        "def calcTime(name:str) -> list:\n",
        "  time = []\n",
        "  for minConfidence in range(30, 95, 5):\n",
        "    time.append(timeit.timeit(f'apriori({name}, min_confidence={minConfidence/ 100})', globals=\n",
        "  globals()))\n",
        "  return time"
      ],
      "metadata": {
        "id": "jqTW7ehKaqie"
      },
      "execution_count": 53,
      "outputs": []
    },
    {
      "cell_type": "code",
      "source": [
        "retailTime = calcTime('retailTransactions')\n",
        "kosarakTime = calcTime('kosarakTransactions')"
      ],
      "metadata": {
        "id": "J1M36bJkaFJQ"
      },
      "execution_count": 60,
      "outputs": []
    },
    {
      "cell_type": "code",
      "source": [
        "retailTimeData = pd.DataFrame({'min_confidence':minConfidenceGraph, 'time':retailTime})\n",
        "kosarakTimeData = pd.DataFrame({'min_confidence':minConfidenceGraph, 'time':kosarakTime})\n"
      ],
      "metadata": {
        "id": "MXLYzD0oa5pH"
      },
      "execution_count": 61,
      "outputs": []
    },
    {
      "cell_type": "code",
      "source": [
        "sns.lineplot(data=retailTimeData, x='min_confidence', y='time')"
      ],
      "metadata": {
        "colab": {
          "base_uri": "https://localhost:8080/",
          "height": 298
        },
        "id": "dGwg_Mj-bEHP",
        "outputId": "1e8c01e0-4c61-418e-dc51-b2efa8bfda11"
      },
      "execution_count": 62,
      "outputs": [
        {
          "output_type": "execute_result",
          "data": {
            "text/plain": [
              "<matplotlib.axes._subplots.AxesSubplot at 0x7f902832e190>"
            ]
          },
          "metadata": {},
          "execution_count": 62
        },
        {
          "output_type": "display_data",
          "data": {
            "image/png": "[encoded data removed]",
            "text/plain": [
              "<Figure size 432x288 with 1 Axes>"
            ]
          },
          "metadata": {
            "needs_background": "light"
          }
        }
      ]
    },
    {
      "cell_type": "markdown",
      "source": [
        "График показывает зависимость времени выполнения от значения минимальной уверенности на наборе данных retail\n"
      ],
      "metadata": {
        "id": "cEEAhZ72ePO4"
      }
    },
    {
      "cell_type": "code",
      "source": [
        "sns.lineplot(data=kosarakTimeData, x='min_confidence', y='time')"
      ],
      "metadata": {
        "colab": {
          "base_uri": "https://localhost:8080/",
          "height": 300
        },
        "id": "GTLYdMIobE9t",
        "outputId": "0885cedb-fb63-48b1-e0b8-e6c830b0038f"
      },
      "execution_count": 63,
      "outputs": [
        {
          "output_type": "execute_result",
          "data": {
            "text/plain": [
              "<matplotlib.axes._subplots.AxesSubplot at 0x7f9028dd9750>"
            ]
          },
          "metadata": {},
          "execution_count": 63
        },
        {
          "output_type": "display_data",
          "data": {
            "image/png": "[encoded data removed]",
            "text/plain": [
              "<Figure size 432x288 with 1 Axes>"
            ]
          },
          "metadata": {
            "needs_background": "light"
          }
        }
      ]
    },
    {
      "cell_type": "markdown",
      "source": [
        "График показывает зависимость времени выполнения от значения минимальной уверенност на наборе данных kosarak"
      ],
      "metadata": {
        "id": "NCPrQLPpeQt7"
      }
    },
    {
      "cell_type": "markdown",
      "source": [
        "Как видно из графиков, время выполнения не зависит от значения минимальной уверенности"
      ],
      "metadata": {
        "id": "GhRhROttdeZe"
      }
    }
  ]
}