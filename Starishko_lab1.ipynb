{
  "nbformat": 4,
  "nbformat_minor": 0,
  "metadata": {
    "colab": {
      "name": "Starishko_lab1.ipynb",
      "provenance": []
    },
    "kernelspec": {
      "name": "python3",
      "display_name": "Python 3"
    },
    "language_info": {
      "name": "python"
    }
  },
  "cells": [
    {
      "cell_type": "markdown",
      "source": [
        ""
      ],
      "metadata": {
        "id": "eEisOpYxMFDH"
      }
    },
    {
      "cell_type": "markdown",
      "source": [
        "Лабораторная работа 1 Поиск частых наборов\n",
        "\n",
        "Выполнил: студент группы КЭ-403 В.С. Старишко"
      ],
      "metadata": {
        "id": "47sygvcFMHIw"
      }
    },
    {
      "cell_type": "markdown",
      "source": [
        "ЗАДАНИЕ\n",
        "\n",
        "Разработайте программу, которая выполняет поиск частых наборов объектов в заданном наборе данных с помощью алгоритма Apriori (или одной из его модификаций\n",
        "\n",
        "\n",
        "Наборы данных для лабораторной\n",
        "\n",
        "retail - http://fimi.uantwerpen.be/data/retail.dat\n",
        "\n",
        "kosarak - http://fimi.uantwerpen.be/data/kosarak.dat\n",
        "\n",
        "Реализация алгоритма aprioiri - https://github.com/cmapman/Apriori"
      ],
      "metadata": {
        "id": "JcRyRUdyUB2Z"
      }
    },
    {
      "cell_type": "code",
      "source": [
        "!wget http://fimi.uantwerpen.be/data/retail.dat"
      ],
      "metadata": {
        "colab": {
          "base_uri": "https://localhost:8080/"
        },
        "id": "_nteLxgWUP2N",
        "outputId": "ac73d71f-c369-40e5-d0a7-7ff6253342f8"
      },
      "execution_count": 2,
      "outputs": [
        {
          "output_type": "stream",
          "name": "stdout",
          "text": [
            "--2022-03-04 14:10:42--  http://fimi.uantwerpen.be/data/retail.dat\n",
            "Resolving fimi.uantwerpen.be (fimi.uantwerpen.be)... 143.129.69.1\n",
            "Connecting to fimi.uantwerpen.be (fimi.uantwerpen.be)|143.129.69.1|:80... connected.\n",
            "HTTP request sent, awaiting response... 200 OK\n",
            "Length: 4167490 (4.0M)\n",
            "Saving to: ‘retail.dat’\n",
            "\n",
            "retail.dat          100%[===================>]   3.97M  4.69MB/s    in 0.8s    \n",
            "\n",
            "2022-03-04 14:10:43 (4.69 MB/s) - ‘retail.dat’ saved [4167490/4167490]\n",
            "\n"
          ]
        }
      ]
    },
    {
      "cell_type": "code",
      "source": [
        "!wget http://fimi.uantwerpen.be/data/kosarak.dat"
      ],
      "metadata": {
        "colab": {
          "base_uri": "https://localhost:8080/"
        },
        "id": "o5Yhh3jPV0hD",
        "outputId": "d0a9c342-f6b7-4550-bd47-9ae8098e7e61"
      },
      "execution_count": 3,
      "outputs": [
        {
          "output_type": "stream",
          "name": "stdout",
          "text": [
            "--2022-03-04 14:10:46--  http://fimi.uantwerpen.be/data/kosarak.dat\n",
            "Resolving fimi.uantwerpen.be (fimi.uantwerpen.be)... 143.129.69.1\n",
            "Connecting to fimi.uantwerpen.be (fimi.uantwerpen.be)|143.129.69.1|:80... connected.\n",
            "HTTP request sent, awaiting response... 200 OK\n",
            "Length: 32029467 (31M)\n",
            "Saving to: ‘kosarak.dat’\n",
            "\n",
            "kosarak.dat         100%[===================>]  30.54M  17.2MB/s    in 1.8s    \n",
            "\n",
            "2022-03-04 14:10:48 (17.2 MB/s) - ‘kosarak.dat’ saved [32029467/32029467]\n",
            "\n"
          ]
        }
      ]
    },
    {
      "cell_type": "code",
      "source": [
        "!pip install apyori"
      ],
      "metadata": {
        "colab": {
          "base_uri": "https://localhost:8080/"
        },
        "id": "Mjq-P2_fV1JG",
        "outputId": "ae5740f7-810e-41a9-b6b5-616fcb309b74"
      },
      "execution_count": 4,
      "outputs": [
        {
          "output_type": "stream",
          "name": "stdout",
          "text": [
            "Collecting apyori\n",
            "  Downloading apyori-1.1.2.tar.gz (8.6 kB)\n",
            "Building wheels for collected packages: apyori\n",
            "  Building wheel for apyori (setup.py) ... \u001b[?25l\u001b[?25hdone\n",
            "  Created wheel for apyori: filename=apyori-1.1.2-py3-none-any.whl size=5974 sha256=6734f9ddf497e34da4b5834bb93f9baab0d6c65b28b9ecfceb49487413d7809e\n",
            "  Stored in directory: /root/.cache/pip/wheels/cb/f6/e1/57973c631d27efd1a2f375bd6a83b2a616c4021f24aab84080\n",
            "Successfully built apyori\n",
            "Installing collected packages: apyori\n",
            "Successfully installed apyori-1.1.2\n"
          ]
        }
      ]
    },
    {
      "cell_type": "markdown",
      "source": [
        "Импорт библиотек"
      ],
      "metadata": {
        "id": "pULjGTqid1lz"
      }
    },
    {
      "cell_type": "code",
      "source": [
        "import numpy as np\n",
        "from apyori import apriori\n",
        "import pandas as pd\n",
        "import seaborn as sns\n",
        "import timeit\n",
        "\n"
      ],
      "metadata": {
        "id": "bPyr_J0QWNA5"
      },
      "execution_count": 5,
      "outputs": []
    },
    {
      "cell_type": "markdown",
      "source": [
        "Считываем построчно данные из наборов"
      ],
      "metadata": {
        "id": "DwPuJRFyd_lu"
      }
    },
    {
      "cell_type": "code",
      "source": [
        "retailTransactions = [i.strip().split() for i in open(\"retail.dat\").readlines()]"
      ],
      "metadata": {
        "id": "0lDMmRA3WfHQ"
      },
      "execution_count": 6,
      "outputs": []
    },
    {
      "cell_type": "code",
      "source": [
        "kosarakTransactions = [i.strip().split() for i in open(\"kosarak.dat\").readlines()]"
      ],
      "metadata": {
        "id": "a7uWkrzGZEl7"
      },
      "execution_count": 7,
      "outputs": []
    },
    {
      "cell_type": "code",
      "source": [
        "print(retailTransactions[0])\n",
        "print(kosarakTransactions[0])"
      ],
      "metadata": {
        "colab": {
          "base_uri": "https://localhost:8080/"
        },
        "id": "CZAGRY4EZMlD",
        "outputId": "2d598231-0420-454a-dea1-38b2c6228834"
      },
      "execution_count": 8,
      "outputs": [
        {
          "output_type": "stream",
          "name": "stdout",
          "text": [
            "['0', '1', '2', '3', '4', '5', '6', '7', '8', '9', '10', '11', '12', '13', '14', '15', '16', '17', '18', '19', '20', '21', '22', '23', '24', '25', '26', '27', '28', '29']\n",
            "['1', '2', '3']\n"
          ]
        }
      ]
    },
    {
      "cell_type": "markdown",
      "source": [
        "Определим функцию для получения наборов с выводом правил, их поддержкой и уверенностью"
      ],
      "metadata": {
        "id": "q8OHMcW2gZdR"
      }
    },
    {
      "cell_type": "code",
      "source": [
        "def getSets(data:list, minSupport:int, sort:int=0, printFlag:int=0) -> list:\n",
        "    num = 0\n",
        "    rules = list(apriori(data, min_support=minSupport,min_lift=1.1))\n",
        "    if sort:\n",
        "      rules = sorted(rules, key=lambda a:a[1],  reverse=True)\n",
        "    for item in rules:\n",
        "      num+=1\n",
        "      if printFlag:\n",
        "          pair = item[0] \n",
        "          items = [x for x in pair]\n",
        "\n",
        "          print(f\"Rule:   {items}\")\n",
        "\n",
        "          print(f\"Support:  {item[1]}\")\n",
        "\n",
        "          print(f\"Confidence:  + {item[2][0][2]}\")\n",
        "          print(f\"Lift:  + {item[2][0][3]}\")\n",
        "          print(\"----------------------------\")\n",
        "    return num"
      ],
      "metadata": {
        "id": "ss0mbdBbgd4Z"
      },
      "execution_count": 9,
      "outputs": []
    },
    {
      "cell_type": "markdown",
      "source": [
        "Протестируем функцию на наших наборах данных"
      ],
      "metadata": {
        "id": "8sXBOOVKgkeR"
      }
    },
    {
      "cell_type": "code",
      "source": [
        "retailTest = getSets(retailTransactions, 0.05, 1, 1)"
      ],
      "metadata": {
        "colab": {
          "base_uri": "https://localhost:8080/"
        },
        "id": "ARAe57KpglaP",
        "outputId": "1098666d-a158-450a-9bc2-fb05ffe9029f"
      },
      "execution_count": 23,
      "outputs": [
        {
          "output_type": "stream",
          "name": "stdout",
          "text": [
            "Rule:   ['39', '48']\n",
            "Support:  0.33055057734624893\n",
            "Confidence:  + 0.5750764676862358\n",
            "Lift:  + 1.2032726128908013\n",
            "----------------------------\n",
            "Rule:   ['39', '41']\n",
            "Support:  0.12946620993171662\n",
            "Confidence:  + 0.22523926985693143\n",
            "Lift:  + 1.3287082307880087\n",
            "----------------------------\n",
            "Rule:   ['39', '38']\n",
            "Support:  0.1173408044282117\n",
            "Confidence:  + 0.663311105411644\n",
            "Lift:  + 1.15399770449534\n",
            "----------------------------\n",
            "Rule:   ['41', '48']\n",
            "Support:  0.10228896803611533\n",
            "Confidence:  + 0.6034125125460019\n",
            "Lift:  + 1.2625620963825945\n",
            "----------------------------\n",
            "Rule:   ['48', '32']\n",
            "Support:  0.0911276967400921\n",
            "Confidence:  + 0.5297026438979363\n",
            "Lift:  + 1.1083337959257116\n",
            "----------------------------\n",
            "Rule:   ['39', '41', '48']\n",
            "Support:  0.0835507361448243\n",
            "Confidence:  + 0.14535767143561915\n",
            "Lift:  + 1.4210493489806006\n",
            "----------------------------\n",
            "Rule:   ['39', '48', '38']\n",
            "Support:  0.06921349334180259\n",
            "Confidence:  + 0.3912541677353167\n",
            "Lift:  + 1.1836438794825679\n",
            "----------------------------\n",
            "Rule:   ['39', '48', '32']\n",
            "Support:  0.06127356457430639\n",
            "Confidence:  + 0.10660088801184016\n",
            "Lift:  + 1.1697967997136982\n",
            "----------------------------\n"
          ]
        }
      ]
    },
    {
      "cell_type": "code",
      "source": [
        "kosarakTest = getSets(kosarakTransactions, 0.1, 0, 1)"
      ],
      "metadata": {
        "colab": {
          "base_uri": "https://localhost:8080/"
        },
        "id": "byPE9QDBgwri",
        "outputId": "76e20b80-d002-46b3-8d67-0f68830bc658"
      },
      "execution_count": 11,
      "outputs": [
        {
          "output_type": "stream",
          "name": "stdout",
          "text": [
            "Rule:   ['6', '1']\n",
            "Support:  0.1334472051571613\n",
            "Confidence:  + 0.668852077236966\n",
            "Lift:  + 1.1010866684771057\n",
            "----------------------------\n",
            "Rule:   ['6', '11']\n",
            "Support:  0.3272851974036416\n",
            "Confidence:  + 0.889986678203068\n",
            "Lift:  + 1.4651258474666244\n",
            "----------------------------\n",
            "Rule:   ['6', '11', '3']\n",
            "Support:  0.14513304013527245\n",
            "Confidence:  + 0.3946602941782374\n",
            "Lift:  + 1.4733934706879983\n",
            "----------------------------\n"
          ]
        }
      ]
    },
    {
      "cell_type": "markdown",
      "source": [
        "Выведем количество правил"
      ],
      "metadata": {
        "id": "ybtBqrLPlhyG"
      }
    },
    {
      "cell_type": "code",
      "source": [
        "print(retailTest)\n",
        "print(kosarakTest)"
      ],
      "metadata": {
        "colab": {
          "base_uri": "https://localhost:8080/"
        },
        "id": "b5l6Bd36lkRE",
        "outputId": "91728cd5-2a44-480b-b1fc-343836b9ce2f"
      },
      "execution_count": 12,
      "outputs": [
        {
          "output_type": "stream",
          "name": "stdout",
          "text": [
            "8\n",
            "3\n"
          ]
        }
      ]
    },
    {
      "cell_type": "markdown",
      "source": [
        "Проведём эксперименты по зависимости количества наборов правил от значения минимальной поддержки"
      ],
      "metadata": {
        "id": "DJVg9U5KPzV-"
      }
    },
    {
      "cell_type": "code",
      "source": [
        "retailSets= []\n",
        "kosarakSets = []\n",
        "\n",
        "for minSupport in range(1, 30, 1):\n",
        "  retailSets.append(getSets(retailTransactions, minSupport / 100, printFlag = 0))\n",
        "  kosarakSets.append(getSets(kosarakTransactions, minSupport/ 100, printFlag = 0))"
      ],
      "metadata": {
        "id": "iJgUjKmHP9QF"
      },
      "execution_count": 24,
      "outputs": []
    },
    {
      "cell_type": "code",
      "source": [
        "minSupportGraph = np.array([i for i in range(1, 30, 1)]) / 100\n",
        "retailSetsData = pd.DataFrame({'min_support':minSupportGraph ,'number_sets':retailSets})\n",
        "kosarakSetsData = pd.DataFrame({'min_support':minSupportGraph ,'number_sets':kosarakSets})"
      ],
      "metadata": {
        "id": "kEhT8I-VQ45J"
      },
      "execution_count": 29,
      "outputs": []
    },
    {
      "cell_type": "code",
      "source": [
        "sns.lineplot(data=retailSetsData , x='min_support', y='number_sets')"
      ],
      "metadata": {
        "colab": {
          "base_uri": "https://localhost:8080/",
          "height": 300
        },
        "id": "DfZO7k5iSuC5",
        "outputId": "7dc8b38e-234a-4e56-9b74-cc57d19ccbb3"
      },
      "execution_count": 31,
      "outputs": [
        {
          "output_type": "execute_result",
          "data": {
            "text/plain": [
              "<matplotlib.axes._subplots.AxesSubplot at 0x7ff341313810>"
            ]
          },
          "metadata": {},
          "execution_count": 31
        },
        {
          "output_type": "display_data",
          "data": {
            "image/png": "[encoded data removed]",
            "text/plain": [
              "<Figure size 432x288 with 1 Axes>"
            ]
          },
          "metadata": {
            "needs_background": "light"
          }
        }
      ]
    },
    {
      "cell_type": "markdown",
      "source": [
        "График показывает зависимость времени выполнения от минимальной поддержки на наборе данных retail"
      ],
      "metadata": {
        "id": "1L0YPZGNaLcc"
      }
    },
    {
      "cell_type": "code",
      "source": [
        "sns.lineplot(data=kosarakSetsData , x='min_support', y='number_sets')"
      ],
      "metadata": {
        "colab": {
          "base_uri": "https://localhost:8080/",
          "height": 298
        },
        "id": "TRWAIJk4Zs3l",
        "outputId": "27d53216-bf43-4472-a1dc-e51a62998998"
      },
      "execution_count": 32,
      "outputs": [
        {
          "output_type": "execute_result",
          "data": {
            "text/plain": [
              "<matplotlib.axes._subplots.AxesSubplot at 0x7ff3412f8fd0>"
            ]
          },
          "metadata": {},
          "execution_count": 32
        },
        {
          "output_type": "display_data",
          "data": {
            "image/png": "[encoded data removed]",
            "text/plain": [
              "<Figure size 432x288 with 1 Axes>"
            ]
          },
          "metadata": {
            "needs_background": "light"
          }
        }
      ]
    },
    {
      "cell_type": "markdown",
      "source": [
        "График показывает зависимость времени выполнения от минимальной поддержки на наборе данных kosarak\n"
      ],
      "metadata": {
        "id": "ZDyS65RTaNxu"
      }
    },
    {
      "cell_type": "markdown",
      "source": [
        "Исходя из графиков можно сделать вывод, чем меньше минимальное значение поддержки, тем большее количество наборов можно получить"
      ],
      "metadata": {
        "id": "OzeEuyOHZ_7w"
      }
    },
    {
      "cell_type": "markdown",
      "source": [
        "\n",
        "Посчитаем время выполнения функций для разных наборов данных и разных значений минимальной поддержки\n"
      ],
      "metadata": {
        "id": "_tHvtSfNaBTk"
      }
    },
    {
      "cell_type": "code",
      "source": [
        "def calcTime(name:str) -> list:\n",
        "  time = []\n",
        "  for minSupport in range(1, 30, 1):\n",
        "    time.append(timeit.timeit(f'apriori({name}, min_support={minSupport / 100})', globals=\n",
        "  globals()))\n",
        "  return time"
      ],
      "metadata": {
        "id": "jqTW7ehKaqie"
      },
      "execution_count": 33,
      "outputs": []
    },
    {
      "cell_type": "code",
      "source": [
        "retailTime = calcTime('retailTransactions')\n",
        "kosarakTime = calcTime('kosarakTransactions')"
      ],
      "metadata": {
        "id": "J1M36bJkaFJQ"
      },
      "execution_count": 36,
      "outputs": []
    },
    {
      "cell_type": "code",
      "source": [
        "retailTimeData = pd.DataFrame({'min_support':minSupportGraph, 'time':retailTime})\n",
        "kosarakTimeData = pd.DataFrame({'min_support':minSupportGraph, 'time':kosarakTime})\n"
      ],
      "metadata": {
        "id": "MXLYzD0oa5pH"
      },
      "execution_count": 39,
      "outputs": []
    },
    {
      "cell_type": "code",
      "source": [
        "sns.lineplot(data=retailTimeData, x='min_support', y='time')"
      ],
      "metadata": {
        "colab": {
          "base_uri": "https://localhost:8080/",
          "height": 298
        },
        "id": "dGwg_Mj-bEHP",
        "outputId": "6563d9f0-f1a4-4272-eea6-73c27146a5ca"
      },
      "execution_count": 40,
      "outputs": [
        {
          "output_type": "execute_result",
          "data": {
            "text/plain": [
              "<matplotlib.axes._subplots.AxesSubplot at 0x7ff343b12090>"
            ]
          },
          "metadata": {},
          "execution_count": 40
        },
        {
          "output_type": "display_data",
          "data": {
            "image/png": "[encoded data removed]",
            "text/plain": [
              "<Figure size 432x288 with 1 Axes>"
            ]
          },
          "metadata": {
            "needs_background": "light"
          }
        }
      ]
    },
    {
      "cell_type": "markdown",
      "source": [
        "График показывает зависимость времени выполнения от минимальной поддержки на наборе данных retail\n"
      ],
      "metadata": {
        "id": "cEEAhZ72ePO4"
      }
    },
    {
      "cell_type": "code",
      "source": [
        "sns.lineplot(data=kosarakTimeData, x='min_support', y='time')"
      ],
      "metadata": {
        "colab": {
          "base_uri": "https://localhost:8080/",
          "height": 298
        },
        "id": "GTLYdMIobE9t",
        "outputId": "fcbadb1f-f593-4c9a-bc89-3da0630b4b6b"
      },
      "execution_count": 41,
      "outputs": [
        {
          "output_type": "execute_result",
          "data": {
            "text/plain": [
              "<matplotlib.axes._subplots.AxesSubplot at 0x7ff343b2c350>"
            ]
          },
          "metadata": {},
          "execution_count": 41
        },
        {
          "output_type": "display_data",
          "data": {
            "image/png": "[encoded data removed]",
            "text/plain": [
              "<Figure size 432x288 with 1 Axes>"
            ]
          },
          "metadata": {
            "needs_background": "light"
          }
        }
      ]
    },
    {
      "cell_type": "markdown",
      "source": [
        "График показывает зависимость времени выполнения от минимальной поддержки на наборе данных kosarak"
      ],
      "metadata": {
        "id": "NCPrQLPpeQt7"
      }
    },
    {
      "cell_type": "markdown",
      "source": [
        "Как видно из графиков, минимальное значение поддержки не уменьшает времени работы алгоритма,  но размер набора данных влияет"
      ],
      "metadata": {
        "id": "GhRhROttdeZe"
      }
    }
  ]
}